{
 "cells": [
  {
   "cell_type": "code",
   "execution_count": 1,
   "outputs": [
    {
     "name": "stderr",
     "output_type": "stream",
     "text": [
      "Ultralytics YOLOv8.0.132  Python-3.9.16 torch-1.13.1 CUDA:0 (NVIDIA GeForce RTX 3070, 8192MiB)\n",
      "Setup complete  (12 CPUs, 31.9 GB RAM, 277.6/465.1 GB disk)\n"
     ]
    }
   ],
   "source": [
    "import ultralytics\n",
    "ultralytics.checks()"
   ],
   "metadata": {
    "collapsed": false,
    "pycharm": {
     "name": "#%%\n"
    }
   }
  },
  {
   "cell_type": "markdown",
   "source": [
    "## Data Preprocessing"
   ],
   "metadata": {
    "collapsed": false,
    "pycharm": {
     "name": "#%% md\n"
    }
   }
  },
  {
   "cell_type": "code",
   "execution_count": 2,
   "outputs": [
    {
     "name": "stdout",
     "output_type": "stream",
     "text": [
      "Files unique to folder1:\n",
      "\n",
      "Files unique to folder2:\n",
      "\n",
      "라벨 안된 이미지 갯수:  0\n"
     ]
    }
   ],
   "source": [
    "import os\n",
    "\n",
    "# 비교할 두 개의 폴더 경로\n",
    "folder1 = r'Z:\\Projects\\2307_2308_bug\\image\\immature'\n",
    "folder2 = r'Z:\\Projects\\2307_2308_bug\\annotated\\immature'\n",
    "\n",
    "def delete_files_with_name(folder_path, file_name):\n",
    "    file_list = os.listdir(folder_path)  # 폴더 내의 모든 파일 목록을 가져옴\n",
    "    for file in file_list:\n",
    "        if file == file_name:  # 파일 이름이 지정한 이름과 일치하는 경우\n",
    "            file_path = os.path.join(folder_path, file)  # 파일의 전체 경로를 생성\n",
    "            os.remove(file_path)  # 파일 삭제\n",
    "            print(f\"Deleted: {file_path}\")\n",
    "\n",
    "file_name = 'Thumbs.db'\n",
    "delete_files_with_name(folder1, file_name)\n",
    "\n",
    "# 각 폴더 내의 파일 리스트\n",
    "files1 = os.listdir(folder1)\n",
    "files2 = os.listdir(folder2)\n",
    "\n",
    "# 확장자를 제외한 파일 이름 추출 함수\n",
    "def get_filename_without_extension(filename):\n",
    "    return os.path.splitext(filename)[0]\n",
    "\n",
    "filenames1 = set(map(get_filename_without_extension, files1))\n",
    "filenames2 = set(map(get_filename_without_extension, files2))\n",
    "\n",
    "unique_to_folder1 = filenames1 - filenames2\n",
    "unique_to_folder2 = filenames2 - filenames1\n",
    "\n",
    "result = []\n",
    "print(\"Files unique to folder1:\")\n",
    "for filename in unique_to_folder1:\n",
    "    result.append(filename)\n",
    "    print(filename)\n",
    "    # print(len(filename))\n",
    "\n",
    "print(\"\\nFiles unique to folder2:\")\n",
    "for filename in unique_to_folder2:\n",
    "    print(filename)\n",
    "\n",
    "print('\\n라벨 안된 이미지 갯수: ',len(result))"
   ],
   "metadata": {
    "collapsed": false,
    "pycharm": {
     "name": "#%%\n"
    },
    "ExecuteTime": {
     "end_time": "2023-07-13T09:20:12.931145Z",
     "start_time": "2023-07-13T09:20:12.792770800Z"
    }
   }
  },
  {
   "cell_type": "code",
   "execution_count": 3,
   "outputs": [
    {
     "name": "stdout",
     "output_type": "stream",
     "text": [
      "[]\n"
     ]
    },
    {
     "data": {
      "text/plain": "0it [00:00, ?it/s]",
      "application/vnd.jupyter.widget-view+json": {
       "version_major": 2,
       "version_minor": 0,
       "model_id": "cbef8d938d984621be7d6260a1b49762"
      }
     },
     "metadata": {},
     "output_type": "display_data"
    }
   ],
   "source": [
    "# 라벨 없는 파일만 따로 추출\n",
    "from shutil import copyfile\n",
    "import tqdm\n",
    "\n",
    "src_dir = r'Z:\\Projects\\2307_2308_bug\\image\\immature'\n",
    "target_dir = r'Z:\\Projects\\2307_2308_bug\\image_todo\\image\\immature'\n",
    "\n",
    "print(result)\n",
    "\n",
    "if not os.path.exists(target_dir):\n",
    "    os.makedirs(target_dir)\n",
    "\n",
    "for filename in tqdm.notebook.tqdm(result):\n",
    "    if filename == \"Thumbs\":\n",
    "        continue\n",
    "    copyfile(os.path.join(src_dir, f\"{filename}.png\"),\n",
    "             os.path.join(target_dir, f\"{filename}.png\"))\n"
   ],
   "metadata": {
    "collapsed": false,
    "pycharm": {
     "name": "#%%\n"
    },
    "ExecuteTime": {
     "end_time": "2023-07-13T09:20:12.984147800Z",
     "start_time": "2023-07-13T09:20:12.932145400Z"
    }
   }
  },
  {
   "cell_type": "code",
   "execution_count": 4,
   "outputs": [
    {
     "data": {
      "text/plain": "  0%|          | 0/3 [00:00<?, ?it/s]",
      "application/vnd.jupyter.widget-view+json": {
       "version_major": 2,
       "version_minor": 0,
       "model_id": "c1dcc83c74b4401197670f5c2a88d9a1"
      }
     },
     "metadata": {},
     "output_type": "display_data"
    }
   ],
   "source": [
    "import shutil\n",
    "import tqdm\n",
    "\n",
    "### 이미지 데이터 전처리\n",
    "\n",
    "source_dir = r'Z:\\Projects\\2307_2308_bug\\image'\n",
    "train_image_dir = r'Z:\\Projects\\2307_2308_bug\\model_input\\image\\train'\n",
    "test_image_dir = r'Z:\\Projects\\2307_2308_bug\\model_input\\image\\test'\n",
    "\n",
    "subfolders = os.listdir(source_dir)\n",
    "\n",
    "for subfolder in tqdm.notebook.tqdm(subfolders):\n",
    "    subfolder_path = os.path.join(source_dir, subfolder)\n",
    "    image_files = os.listdir(subfolder_path)\n",
    "    num_train = int(len(image_files) * 0.8)\n",
    "\n",
    "    for image_file in sorted(image_files)[:num_train]:\n",
    "        source_file = os.path.join(subfolder_path, image_file)\n",
    "        target_file = os.path.join(train_image_dir, subfolder, image_file)\n",
    "        os.makedirs(os.path.dirname(target_file), exist_ok=True)\n",
    "        shutil.copy(source_file, target_file)\n",
    "\n",
    "    for image_file in sorted(image_files)[num_train:]:\n",
    "        source_file = os.path.join(subfolder_path, image_file)\n",
    "        target_file = os.path.join(test_image_dir, subfolder, image_file)\n",
    "        os.makedirs(os.path.dirname(target_file), exist_ok=True)\n",
    "        shutil.copy(source_file, target_file)\n"
   ],
   "metadata": {
    "collapsed": false,
    "pycharm": {
     "name": "#%%\n"
    },
    "ExecuteTime": {
     "end_time": "2023-07-13T09:21:56.825366200Z",
     "start_time": "2023-07-13T09:20:12.975146Z"
    }
   }
  },
  {
   "cell_type": "code",
   "execution_count": 5,
   "outputs": [
    {
     "data": {
      "text/plain": "  0%|          | 0/3 [00:00<?, ?it/s]",
      "application/vnd.jupyter.widget-view+json": {
       "version_major": 2,
       "version_minor": 0,
       "model_id": "c56bb3d818ac49cca1b26f2103d1a1dc"
      }
     },
     "metadata": {},
     "output_type": "display_data"
    }
   ],
   "source": [
    "import shutil\n",
    "import tqdm\n",
    "\n",
    "### 라벨 데이터 전처리\n",
    "\n",
    "source_dir = r'Z:\\Projects\\2307_2308_bug\\annotated'\n",
    "train_annotated_dir = r'Z:\\Projects\\2307_2308_bug\\model_input\\annotated\\train'\n",
    "test_annotated_dir = r'Z:\\Projects\\2307_2308_bug\\model_input\\annotated\\test'\n",
    "\n",
    "subfolders = os.listdir(source_dir)\n",
    "\n",
    "for subfolder in tqdm.notebook.tqdm(subfolders):\n",
    "    subfolder_path = os.path.join(source_dir, subfolder)\n",
    "    annotated_files = os.listdir(subfolder_path)\n",
    "    num_train = int(len(annotated_files) * 0.8)\n",
    "\n",
    "    for annotated_file in sorted(annotated_files)[:num_train]:\n",
    "        source_file = os.path.join(subfolder_path, annotated_file)\n",
    "        target_file = os.path.join(train_annotated_dir, subfolder, annotated_file)\n",
    "        os.makedirs(os.path.dirname(target_file), exist_ok=True)\n",
    "        shutil.copy(source_file, target_file)\n",
    "\n",
    "    for annotated_file in sorted(annotated_files)[num_train:]:\n",
    "        source_file = os.path.join(subfolder_path, annotated_file)\n",
    "        target_file = os.path.join(test_annotated_dir, subfolder, annotated_file)\n",
    "        os.makedirs(os.path.dirname(target_file), exist_ok=True)\n",
    "        shutil.copy(source_file, target_file)"
   ],
   "metadata": {
    "collapsed": false,
    "pycharm": {
     "name": "#%%\n"
    },
    "ExecuteTime": {
     "end_time": "2023-07-13T09:23:58.607830800Z",
     "start_time": "2023-07-13T09:21:56.830367600Z"
    }
   }
  },
  {
   "cell_type": "code",
   "execution_count": 6,
   "outputs": [
    {
     "name": "stdout",
     "output_type": "stream",
     "text": [
      "train aphid image set: 575\n",
      "train immature image set: 490\n",
      "train mature image set: 566 \n",
      "\n",
      "test aphid image set: 144\n",
      "test immature image set: 123\n",
      "test mature image set: 142 \n",
      "\n",
      "total train image set:  1631\n",
      "total test image set:  409\n"
     ]
    }
   ],
   "source": [
    "### 이미지 데이터 갯수 확인\n",
    "\n",
    "train_image_aphid = [x for x in os.listdir(r'Z:\\Projects\\2307_2308_bug\\model_input\\image\\train\\aphid') if x.endswith(\".png\")]\n",
    "train_image_immature = [x for x in os.listdir(r'Z:\\Projects\\2307_2308_bug\\model_input\\image\\train\\immature') if x.endswith(\".png\")]\n",
    "train_image_mature = [x for x in os.listdir(r'Z:\\Projects\\2307_2308_bug\\model_input\\image\\train\\mature') if x.endswith(\".png\")]\n",
    "\n",
    "test_image_aphid = [x for x in os.listdir(r'Z:\\Projects\\2307_2308_bug\\model_input\\image\\test\\aphid') if x.endswith(\".png\")]\n",
    "test_image_immature = [x for x in os.listdir(r'Z:\\Projects\\2307_2308_bug\\model_input\\image\\test\\immature') if x.endswith(\".png\")]\n",
    "test_image_mature = [x for x in os.listdir(r'Z:\\Projects\\2307_2308_bug\\model_input\\image\\test\\mature') if x.endswith(\".png\")]\n",
    "\n",
    "print('train aphid image set:' ,len(train_image_aphid))\n",
    "print('train immature image set:' ,len(train_image_immature))\n",
    "print('train mature image set:' ,len(train_image_mature), '\\n')\n",
    "\n",
    "print('test aphid image set:' ,len(test_image_aphid))\n",
    "print('test immature image set:' ,len(test_image_immature))\n",
    "print('test mature image set:' ,len(test_image_mature), '\\n')\n",
    "\n",
    "print('total train image set: ', len(train_image_aphid) + len(train_image_immature) + len(train_image_mature))\n",
    "print('total test image set: ', len(test_image_aphid) + len(test_image_immature) + len(test_image_mature))"
   ],
   "metadata": {
    "collapsed": false,
    "pycharm": {
     "name": "#%%\n"
    },
    "ExecuteTime": {
     "end_time": "2023-07-13T09:23:58.806436500Z",
     "start_time": "2023-07-13T09:23:58.610827900Z"
    }
   }
  },
  {
   "cell_type": "code",
   "execution_count": 7,
   "outputs": [
    {
     "name": "stdout",
     "output_type": "stream",
     "text": [
      "train aphid annotated set: 575\n",
      "train immature annotated set: 490\n",
      "train mature annotated set: 566 \n",
      "\n",
      "test aphid annotated set: 144\n",
      "test immature annotated set: 123\n",
      "test mature annotated set: 142 \n",
      "\n",
      "total train annotated set:  1631\n",
      "total test annotated set:  409\n"
     ]
    }
   ],
   "source": [
    "### 라벨 데이터 갯수 확인\n",
    "\n",
    "train_annotated_aphid = [x for x in os.listdir(r'Z:\\Projects\\2307_2308_bug\\model_input\\annotated\\train\\aphid') if x.endswith(\".json\")]\n",
    "train_annotated_immature = [x for x in os.listdir(r'Z:\\Projects\\2307_2308_bug\\model_input\\annotated\\train\\immature') if x.endswith(\".json\")]\n",
    "train_annotated_mature = [x for x in os.listdir(r'Z:\\Projects\\2307_2308_bug\\model_input\\annotated\\train\\mature') if x.endswith(\".json\")]\n",
    "\n",
    "test_annotated_aphid = [x for x in os.listdir(r'Z:\\Projects\\2307_2308_bug\\model_input\\annotated\\test\\aphid') if x.endswith(\".json\")]\n",
    "test_annotated_immature = [x for x in os.listdir(r'Z:\\Projects\\2307_2308_bug\\model_input\\annotated\\test\\immature') if x.endswith(\".json\")]\n",
    "test_annotated_mature = [x for x in os.listdir(r'Z:\\Projects\\2307_2308_bug\\model_input\\annotated\\test\\mature') if x.endswith(\".json\")]\n",
    "\n",
    "print('train aphid annotated set:' ,len(train_annotated_aphid))\n",
    "print('train immature annotated set:' ,len(train_annotated_immature))\n",
    "print('train mature annotated set:' ,len(train_annotated_mature), '\\n')\n",
    "\n",
    "print('test aphid annotated set:' ,len(test_annotated_aphid))\n",
    "print('test immature annotated set:' ,len(test_annotated_immature))\n",
    "print('test mature annotated set:' ,len(test_annotated_mature), '\\n')\n",
    "\n",
    "print('total train annotated set: ', len(train_annotated_aphid) + len(train_annotated_immature) + len(train_annotated_mature))\n",
    "print('total test annotated set: ', len(test_annotated_aphid) + len(test_annotated_immature) + len(test_annotated_mature))"
   ],
   "metadata": {
    "collapsed": false,
    "pycharm": {
     "name": "#%%\n"
    },
    "ExecuteTime": {
     "end_time": "2023-07-13T09:23:58.990048400Z",
     "start_time": "2023-07-13T09:23:58.810437100Z"
    }
   }
  },
  {
   "cell_type": "code",
   "execution_count": 8,
   "outputs": [
    {
     "name": "stdout",
     "output_type": "stream",
     "text": [
      "train aphid set: image: 575, label: 575, diff: 0\n",
      "train immature set: image: 490, label: 490, diff: 0\n",
      "train mature set: image: 566, label: 566, diff: 0 \n",
      "\n",
      "test aphid set: image: 144, label: 144, diff: 0\n",
      "test immature set: image: 123, label: 123, diff: 0\n",
      "test mature set: image: 142, label: 142, diff: 0 \n",
      "\n",
      "total train set:  image: 1631, label: 1631, diff: 0\n",
      "total test set:  image:409, label: 409, diff: 0\n"
     ]
    }
   ],
   "source": [
    "### 이미지 라벨 데이터 개수 매치\n",
    "\n",
    "print('train aphid set:' , f'image: {len(train_image_aphid)}, label: {len(train_annotated_aphid)}, diff: {abs(len(train_image_aphid)-len(train_annotated_aphid))}')\n",
    "print('train immature set:' , f'image: {len(train_image_immature)}, label: {len(train_annotated_immature)}, diff: {abs(len(train_image_immature)-len(train_annotated_immature))}')\n",
    "print('train mature set:' , f'image: {len(train_image_mature)}, label: {len(train_annotated_mature)}, diff: {abs(len(train_image_mature)-len(train_annotated_mature))}', '\\n')\n",
    "\n",
    "print('test aphid set:' , f'image: {len(test_image_aphid)}, label: {len(test_annotated_aphid)}, diff: {abs(len(test_image_aphid)-len(test_annotated_aphid))}')\n",
    "print('test immature set:' , f'image: {len(test_image_immature)}, label: {len(test_annotated_immature)}, diff: {abs(len(test_image_immature)-len(test_annotated_immature))}')\n",
    "print('test mature set:' , f'image: {len(test_image_mature)}, label: {len(test_annotated_mature)}, diff: {abs(len(test_image_mature)-len(test_annotated_mature))}', '\\n')\n",
    "\n",
    "print('total train set: ', f'image: {len(train_image_aphid) + len(train_image_immature) + len(train_image_mature)}, label: {len(train_annotated_aphid) + len(train_annotated_immature) + len(train_annotated_mature)}, diff: {abs((len(train_image_aphid) + len(train_image_immature) + len(train_image_mature))-(len(train_annotated_aphid) + len(train_annotated_immature) + len(train_annotated_mature)))}')\n",
    "print('total test set: ', f'image:{ len(test_image_aphid) + len(test_image_immature) + len(test_image_mature)}, label: {len(test_annotated_aphid) + len(test_annotated_immature) + len(test_annotated_mature)}, diff: {abs((len(test_image_aphid) + len(test_image_immature) + len(test_image_mature))-(len(test_annotated_aphid) + len(test_annotated_immature) + len(test_annotated_mature)))}')"
   ],
   "metadata": {
    "collapsed": false,
    "pycharm": {
     "name": "#%%\n"
    },
    "ExecuteTime": {
     "end_time": "2023-07-13T09:23:59.034055100Z",
     "start_time": "2023-07-13T09:23:58.993049800Z"
    }
   }
  },
  {
   "cell_type": "code",
   "execution_count": 9,
   "outputs": [
    {
     "data": {
      "text/plain": "  0%|          | 0/3 [00:00<?, ?it/s]",
      "application/vnd.jupyter.widget-view+json": {
       "version_major": 2,
       "version_minor": 0,
       "model_id": "ea148bb18de54f3593ad60fbe5f9c6df"
      }
     },
     "metadata": {},
     "output_type": "display_data"
    },
    {
     "data": {
      "text/plain": "  0%|          | 0/3 [00:00<?, ?it/s]",
      "application/vnd.jupyter.widget-view+json": {
       "version_major": 2,
       "version_minor": 0,
       "model_id": "9b52e3e358b9445f902908222dab459c"
      }
     },
     "metadata": {},
     "output_type": "display_data"
    }
   ],
   "source": [
    "import shutil\n",
    "import tqdm\n",
    "\n",
    "### 이미지 데이터 통합\n",
    "\n",
    "source_dir = r'Z:\\Projects\\2307_2308_bug\\image'\n",
    "train_image_dir = r'Z:\\Projects\\2307_2308_bug\\model_input\\image\\train'\n",
    "test_image_dir = r'Z:\\Projects\\2307_2308_bug\\model_input\\image\\test'\n",
    "\n",
    "subfolders = os.listdir(source_dir)\n",
    "\n",
    "### immature 제외\n",
    "# subfolders.remove('immature')\n",
    "\n",
    "merged_train_image_dir = os.path.join(train_image_dir, 'merged_train')\n",
    "os.makedirs(merged_train_image_dir, exist_ok=True)\n",
    "\n",
    "merged_test_dir = os.path.join(test_image_dir, 'merged_test')\n",
    "os.makedirs(merged_test_dir, exist_ok=True)\n",
    "\n",
    "for subfolder in tqdm.notebook.tqdm(subfolders):\n",
    "    subfolder_path = os.path.join(train_image_dir, subfolder)\n",
    "    image_files = os.listdir(subfolder_path)\n",
    "    for image_file in image_files:\n",
    "        source_file = os.path.join(subfolder_path, image_file)\n",
    "        target_file = os.path.join(merged_train_image_dir, image_file)\n",
    "        shutil.copy(source_file, target_file)\n",
    "\n",
    "for subfolder in tqdm.notebook.tqdm(subfolders):\n",
    "    subfolder_path = os.path.join(test_image_dir, subfolder)\n",
    "    image_files = os.listdir(subfolder_path)\n",
    "    for image_file in image_files:\n",
    "        source_file = os.path.join(subfolder_path, image_file)\n",
    "        target_file = os.path.join(merged_test_dir, image_file)\n",
    "        shutil.copy(source_file, target_file)"
   ],
   "metadata": {
    "collapsed": false,
    "pycharm": {
     "name": "#%%\n"
    },
    "ExecuteTime": {
     "end_time": "2023-07-13T09:25:42.255033900Z",
     "start_time": "2023-07-13T09:23:59.009056300Z"
    }
   }
  },
  {
   "cell_type": "code",
   "execution_count": 10,
   "outputs": [
    {
     "name": "stdout",
     "output_type": "stream",
     "text": [
      "total 이미지 데이터 갯수\n",
      "1631\n",
      "409\n"
     ]
    }
   ],
   "source": [
    "### 이미지 데이터 통합\n",
    "\n",
    "train_image_set = [x for x in os.listdir(r'Z:\\Projects\\2307_2308_bug\\model_input\\image\\train\\merged_train') if x.endswith(\".png\")]\n",
    "test_image_set = [x for x in os.listdir(r'Z:\\Projects\\2307_2308_bug\\model_input\\image\\test\\merged_test') if x.endswith(\".png\")]\n",
    "\n",
    "print('total 이미지 데이터 갯수')\n",
    "print(len(train_image_set))\n",
    "print(len(test_image_set))"
   ],
   "metadata": {
    "collapsed": false,
    "pycharm": {
     "name": "#%%\n"
    },
    "ExecuteTime": {
     "end_time": "2023-07-13T09:25:42.407977400Z",
     "start_time": "2023-07-13T09:25:42.257034Z"
    }
   }
  },
  {
   "cell_type": "markdown",
   "source": [
    "### 모델 라벨 입력자료 최종 전처리\n",
    "* 어노테이션 라벨 변경\n",
    "* polygon to bbox"
   ],
   "metadata": {
    "collapsed": false,
    "pycharm": {
     "name": "#%% md\n"
    }
   }
  },
  {
   "cell_type": "code",
   "execution_count": 11,
   "outputs": [],
   "source": [
    "import json\n",
    "import os\n",
    "import tqdm\n",
    "\n",
    "def aphid_preprocess(infile, outfile, json_list , type='aphid'):\n",
    "    for file in tqdm.notebook.tqdm(json_list):\n",
    "        with open(f'{infile}/{file}') as json_file:\n",
    "            json_data = json.load(json_file)\n",
    "\n",
    "        ### label change\n",
    "        for shape in json_data['shapes']:\n",
    "            shape['label'] = type\n",
    "\n",
    "        ### bounding box generate\n",
    "        # for shape in json_data['shapes']:\n",
    "            # points = shape['points']\n",
    "            # x_coordinates = [point[0] for point in points]\n",
    "            # y_coordinates = [point[1] for point in points]\n",
    "            # min_x = min(x_coordinates)\n",
    "            # max_x = max(x_coordinates)\n",
    "            # min_y = min(y_coordinates)\n",
    "            # max_y = max(y_coordinates)\n",
    "            #\n",
    "            # shape['points'] = [[min_x, min_y], [max_x, min_y], [max_x, max_y], [min_x, max_y]]\n",
    "\n",
    "        ### update json file\n",
    "        with open(f'{outfile}/{file}', 'w') as json_file:\n",
    "            json.dump(json_data, json_file)\n",
    "\n",
    "def immature_preprocess(infile, outfile, json_list , type='tabaci_immature'):\n",
    "    for file in tqdm.notebook.tqdm(json_list):\n",
    "        with open(f'{infile}/{file}') as json_file:\n",
    "            json_data = json.load(json_file)\n",
    "\n",
    "        ### label change\n",
    "        for shape in json_data['shapes']:\n",
    "            shape['label'] = type\n",
    "\n",
    "        ### bounding box generate\n",
    "        # for shape in json_data['shapes']:\n",
    "        #     points = shape['points']\n",
    "        #     x_coordinates = [point[0] for point in points]\n",
    "        #     y_coordinates = [point[1] for point in points]\n",
    "        #     min_x = min(x_coordinates)\n",
    "        #     max_x = max(x_coordinates)\n",
    "        #     min_y = min(y_coordinates)\n",
    "        #     max_y = max(y_coordinates)\n",
    "        #\n",
    "        #     shape['points'] = [[min_x, min_y], [max_x, min_y], [max_x, max_y], [min_x, max_y]]\n",
    "\n",
    "\n",
    "        ### update json file\n",
    "        with open(f'{outfile}/{file}', 'w') as json_file:\n",
    "            json.dump(json_data, json_file)\n",
    "\n",
    "def mature_preprocess(infile, outfile, json_list , type='tabaci_mature'):\n",
    "    for file in tqdm.notebook.tqdm(json_list):\n",
    "        with open(f'{infile}/{file}') as json_file:\n",
    "            json_data = json.load(json_file)\n",
    "\n",
    "        ### label change\n",
    "        for shape in json_data['shapes']:\n",
    "            shape['label'] = type\n",
    "\n",
    "        ### bounding box generate\n",
    "        # for shape in json_data['shapes']:\n",
    "        #     points = shape['points']\n",
    "        #     x_coordinates = [point[0] for point in points]\n",
    "        #     y_coordinates = [point[1] for point in points]\n",
    "        #     min_x = min(x_coordinates)\n",
    "        #     max_x = max(x_coordinates)\n",
    "        #     min_y = min(y_coordinates)\n",
    "        #     max_y = max(y_coordinates)\n",
    "        #\n",
    "        #     shape['points'] = [[min_x, min_y], [max_x, min_y], [max_x, max_y], [min_x, max_y]]\n",
    "\n",
    "        ### update json file\n",
    "        with open(f'{outfile}/{file}', 'w') as json_file:\n",
    "            json.dump(json_data, json_file)"
   ],
   "metadata": {
    "collapsed": false,
    "pycharm": {
     "name": "#%%\n"
    },
    "ExecuteTime": {
     "end_time": "2023-07-13T09:25:42.451989100Z",
     "start_time": "2023-07-13T09:25:42.413987500Z"
    }
   }
  },
  {
   "cell_type": "code",
   "execution_count": 12,
   "outputs": [
    {
     "data": {
      "text/plain": "  0%|          | 0/575 [00:00<?, ?it/s]",
      "application/vnd.jupyter.widget-view+json": {
       "version_major": 2,
       "version_minor": 0,
       "model_id": "5432364b8259458f878e1ad7d1f5b627"
      }
     },
     "metadata": {},
     "output_type": "display_data"
    },
    {
     "data": {
      "text/plain": "  0%|          | 0/490 [00:00<?, ?it/s]",
      "application/vnd.jupyter.widget-view+json": {
       "version_major": 2,
       "version_minor": 0,
       "model_id": "411441be90b24c74a7b9151e6ab0cc8a"
      }
     },
     "metadata": {},
     "output_type": "display_data"
    },
    {
     "data": {
      "text/plain": "  0%|          | 0/566 [00:00<?, ?it/s]",
      "application/vnd.jupyter.widget-view+json": {
       "version_major": 2,
       "version_minor": 0,
       "model_id": "06f2bca7156f40c2a71b48febe4c972d"
      }
     },
     "metadata": {},
     "output_type": "display_data"
    },
    {
     "data": {
      "text/plain": "  0%|          | 0/144 [00:00<?, ?it/s]",
      "application/vnd.jupyter.widget-view+json": {
       "version_major": 2,
       "version_minor": 0,
       "model_id": "1f544f26879042ab92b0cd37b232863b"
      }
     },
     "metadata": {},
     "output_type": "display_data"
    },
    {
     "data": {
      "text/plain": "  0%|          | 0/123 [00:00<?, ?it/s]",
      "application/vnd.jupyter.widget-view+json": {
       "version_major": 2,
       "version_minor": 0,
       "model_id": "e5069cfcb6664e0d85198ad46b56ddc9"
      }
     },
     "metadata": {},
     "output_type": "display_data"
    },
    {
     "data": {
      "text/plain": "  0%|          | 0/142 [00:00<?, ?it/s]",
      "application/vnd.jupyter.widget-view+json": {
       "version_major": 2,
       "version_minor": 0,
       "model_id": "5d7242d57f6a4a259e82eae21f35f9f5"
      }
     },
     "metadata": {},
     "output_type": "display_data"
    }
   ],
   "source": [
    "aphid_train_infile = r'Z:\\Projects\\2307_2308_bug\\model_input\\annotated\\train\\aphid'\n",
    "immature_train_infile = r'Z:\\Projects\\2307_2308_bug\\model_input\\annotated\\train\\immature'\n",
    "mature_train_infile = r'Z:\\Projects\\2307_2308_bug\\model_input\\annotated\\train\\mature'\n",
    "label_train_outfile = './preprocessing/output/train'\n",
    "\n",
    "aphid_test_infile = r'Z:\\Projects\\2307_2308_bug\\model_input\\annotated\\test\\aphid'\n",
    "immature_test_infile = r'Z:\\Projects\\2307_2308_bug\\model_input\\annotated\\test\\immature'\n",
    "mature_test_infile = r'Z:\\Projects\\2307_2308_bug\\model_input\\annotated\\test\\mature'\n",
    "label_test_outfile = './preprocessing/output/test'\n",
    "\n",
    "if not os.path.exists(label_train_outfile):\n",
    "    os.makedirs(label_train_outfile)\n",
    "\n",
    "if not os.path.exists(label_test_outfile):\n",
    "    os.makedirs(label_test_outfile)\n",
    "\n",
    "aphid_train_list = [x for x in os.listdir(aphid_train_infile) if x.endswith(\".json\")]\n",
    "immature_train_list = [x for x in os.listdir(immature_train_infile) if x.endswith(\".json\")]\n",
    "mature_train_list = [x for x in os.listdir(mature_train_infile) if x.endswith(\".json\")]\n",
    "\n",
    "aphid_test_list = [x for x in os.listdir(aphid_test_infile) if x.endswith(\".json\")]\n",
    "immature_test_list = [x for x in os.listdir(immature_test_infile) if x.endswith(\".json\")]\n",
    "mature_test_list = [x for x in os.listdir(mature_test_infile) if x.endswith(\".json\")]\n",
    "\n",
    "aphid_preprocess(aphid_train_infile, label_train_outfile, aphid_train_list)\n",
    "immature_preprocess(immature_train_infile, label_train_outfile, immature_train_list)\n",
    "mature_preprocess(mature_train_infile, label_train_outfile, mature_train_list)\n",
    "\n",
    "aphid_preprocess(aphid_test_infile, label_test_outfile, aphid_test_list)\n",
    "immature_preprocess(immature_test_infile, label_test_outfile, immature_test_list)\n",
    "mature_preprocess(mature_test_infile, label_test_outfile, mature_test_list)"
   ],
   "metadata": {
    "collapsed": false,
    "pycharm": {
     "name": "#%%\n"
    },
    "ExecuteTime": {
     "end_time": "2023-07-13T09:27:13.165442500Z",
     "start_time": "2023-07-13T09:25:42.427990300Z"
    }
   }
  },
  {
   "cell_type": "code",
   "execution_count": 13,
   "outputs": [
    {
     "name": "stdout",
     "output_type": "stream",
     "text": [
      "total 라벨 데이터 갯수\n",
      "1631\n",
      "409\n"
     ]
    }
   ],
   "source": [
    "### 라벨 데이터 통합\n",
    "\n",
    "train_annotated_set = [x for x in os.listdir(label_train_outfile) if x.endswith(\".json\")]\n",
    "test_annotated_set = [x for x in os.listdir(label_test_outfile) if x.endswith(\".json\")]\n",
    "\n",
    "print('total 라벨 데이터 갯수')\n",
    "print(len(train_annotated_set))\n",
    "print(len(test_annotated_set))"
   ],
   "metadata": {
    "collapsed": false,
    "pycharm": {
     "name": "#%%\n"
    },
    "ExecuteTime": {
     "end_time": "2023-07-13T09:27:13.181444200Z",
     "start_time": "2023-07-13T09:27:13.167443100Z"
    }
   }
  },
  {
   "cell_type": "markdown",
   "source": [
    "## Train model"
   ],
   "metadata": {
    "collapsed": false,
    "pycharm": {
     "name": "#%% md\n"
    }
   }
  },
  {
   "cell_type": "code",
   "execution_count": 14,
   "outputs": [
    {
     "ename": "FileNotFoundError",
     "evalue": "[WinError 3] 지정된 경로를 찾을 수 없습니다: './dataset_0/train/images'",
     "output_type": "error",
     "traceback": [
      "\u001B[1;31m---------------------------------------------------------------------------\u001B[0m",
      "\u001B[1;31mFileNotFoundError\u001B[0m                         Traceback (most recent call last)",
      "Cell \u001B[1;32mIn[14], line 3\u001B[0m\n\u001B[0;32m      1\u001B[0m \u001B[38;5;28;01mimport\u001B[39;00m \u001B[38;5;21;01mos\u001B[39;00m\n\u001B[1;32m----> 3\u001B[0m total_train_set \u001B[38;5;241m=\u001B[39m [x \u001B[38;5;28;01mfor\u001B[39;00m x \u001B[38;5;129;01min\u001B[39;00m \u001B[43mos\u001B[49m\u001B[38;5;241;43m.\u001B[39;49m\u001B[43mlistdir\u001B[49m\u001B[43m(\u001B[49m\u001B[38;5;124;43m'\u001B[39;49m\u001B[38;5;124;43m./dataset_0/train/images\u001B[39;49m\u001B[38;5;124;43m'\u001B[39;49m\u001B[43m)\u001B[49m \u001B[38;5;28;01mif\u001B[39;00m x\u001B[38;5;241m.\u001B[39mendswith(\u001B[38;5;124m\"\u001B[39m\u001B[38;5;124m.jpg\u001B[39m\u001B[38;5;124m\"\u001B[39m)]\n\u001B[0;32m      4\u001B[0m total_test_set \u001B[38;5;241m=\u001B[39m [x \u001B[38;5;28;01mfor\u001B[39;00m x \u001B[38;5;129;01min\u001B[39;00m os\u001B[38;5;241m.\u001B[39mlistdir(\u001B[38;5;124m'\u001B[39m\u001B[38;5;124m./dataset_0/valid/images\u001B[39m\u001B[38;5;124m'\u001B[39m) \u001B[38;5;28;01mif\u001B[39;00m x\u001B[38;5;241m.\u001B[39mendswith(\u001B[38;5;124m\"\u001B[39m\u001B[38;5;124m.jpg\u001B[39m\u001B[38;5;124m\"\u001B[39m)]\n\u001B[0;32m      6\u001B[0m \u001B[38;5;28mprint\u001B[39m(\u001B[38;5;124m'\u001B[39m\u001B[38;5;124mtotal 증강 후 데이터 갯수\u001B[39m\u001B[38;5;124m'\u001B[39m)\n",
      "\u001B[1;31mFileNotFoundError\u001B[0m: [WinError 3] 지정된 경로를 찾을 수 없습니다: './dataset_0/train/images'"
     ]
    }
   ],
   "source": [
    "# import os\n",
    "#\n",
    "# total_train_set = [x for x in os.listdir('./dataset_0/train/images') if x.endswith(\".jpg\")]\n",
    "# total_test_set = [x for x in os.listdir('./dataset_0/valid/images') if x.endswith(\".jpg\")]\n",
    "#\n",
    "# print('total 증강 후 데이터 갯수')\n",
    "# print(len(total_train_set))\n",
    "# print(len(total_test_set))"
   ],
   "metadata": {
    "collapsed": false,
    "pycharm": {
     "name": "#%%\n"
    },
    "ExecuteTime": {
     "end_time": "2023-07-13T09:27:13.608462500Z",
     "start_time": "2023-07-13T09:27:13.183442200Z"
    }
   }
  },
  {
   "cell_type": "code",
   "execution_count": null,
   "outputs": [],
   "source": [
    "# !wandb login"
   ],
   "metadata": {
    "collapsed": false,
    "pycharm": {
     "name": "#%%\n"
    }
   }
  },
  {
   "cell_type": "code",
   "execution_count": null,
   "outputs": [],
   "source": [
    "# from ultralytics import YOLO\n",
    "#\n",
    "# model = YOLO(\"yolov8n.pt\")\n",
    "# model.train(data='dataset/data.yaml', batch=32, imgsz=640, epochs=30, workers=0)"
   ],
   "metadata": {
    "collapsed": false,
    "pycharm": {
     "name": "#%%\n",
     "is_executing": true
    }
   }
  },
  {
   "cell_type": "code",
   "execution_count": null,
   "outputs": [],
   "source": [
    "# !yolo detect train data=dataset/data.yaml model=yolov8n.pt epochs=10 imgsz=240 batch=16 workers=0"
   ],
   "metadata": {
    "collapsed": false,
    "pycharm": {
     "name": "#%%\n"
    }
   }
  }
 ],
 "metadata": {
  "kernelspec": {
   "display_name": "Python 3",
   "language": "python",
   "name": "python3"
  },
  "language_info": {
   "codemirror_mode": {
    "name": "ipython",
    "version": 2
   },
   "file_extension": ".py",
   "mimetype": "text/x-python",
   "name": "python",
   "nbconvert_exporter": "python",
   "pygments_lexer": "ipython2",
   "version": "2.7.6"
  }
 },
 "nbformat": 4,
 "nbformat_minor": 0
}
